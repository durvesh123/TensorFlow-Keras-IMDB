{
  "nbformat": 4,
  "nbformat_minor": 0,
  "metadata": {
    "colab": {
      "name": "lstm_keras.ipynb",
      "version": "0.3.2",
      "provenance": [],
      "collapsed_sections": [],
      "toc_visible": true
    },
    "kernelspec": {
      "name": "python3",
      "display_name": "Python 3"
    },
    "accelerator": "GPU"
  },
  "cells": [
    {
      "metadata": {
        "colab": {
          "base_uri": "https://localhost:8080/",
          "height": 34
        },
        "colab_type": "code",
        "id": "cEUzEMYi6OEV",
        "outputId": "0952f008-a621-4f59-c8a7-13ba467311c9"
      },
      "cell_type": "code",
      "source": [
        "import tensorflow as tf\n",
        "from tensorflow import keras\n",
        "from keras.models import Sequential\n",
        "from keras.layers import Dense,LSTM,Embedding,Bidirectional\n",
        "from keras.callbacks import TensorBoard\n",
        "import numpy as np\n",
        "import matplotlib.pyplot as plt"
      ],
      "execution_count": 2,
      "outputs": [
        {
          "output_type": "stream",
          "text": [
            "Using TensorFlow backend.\n"
          ],
          "name": "stderr"
        }
      ]
    },
    {
      "metadata": {
        "colab": {},
        "colab_type": "code",
        "id": "lm3sAgneHMiV"
      },
      "cell_type": "code",
      "source": [
        "def load_dataset():\n",
        "    imdb = keras.datasets.imdb\n",
        "    (train_data, train_labels), (test_data, test_labels) = imdb.load_data(num_words=10000)\n",
        "    return train_data,train_labels,test_data,test_labels,imdb"
      ],
      "execution_count": 0,
      "outputs": []
    },
    {
      "metadata": {
        "colab": {},
        "colab_type": "code",
        "id": "5JAVIlIgHat9"
      },
      "cell_type": "code",
      "source": [
        "def get_reversed_word_mapping(imdb):\n",
        "    word_index = imdb.get_word_index()\n",
        "    word_index = {k:(v+3) for k,v in word_index.items()} \n",
        "    word_index[\"<PAD>\"] = 0\n",
        "    word_index[\"<START>\"] = 1\n",
        "    word_index[\"<UNK>\"] = 2  # unknown\n",
        "    word_index[\"<UNUSED>\"] = 3\n",
        "    reverse_word_index = dict([(value, key) for (key, value) in word_index.items()])\n",
        "    return reverse_word_index,word_index"
      ],
      "execution_count": 0,
      "outputs": []
    },
    {
      "metadata": {
        "colab": {},
        "colab_type": "code",
        "id": "lzDlPwyYIBZj"
      },
      "cell_type": "code",
      "source": [
        "def decode_review(reverse_word_index,text):\n",
        "    return ' '.join([reverse_word_index.get(i, '?') for i in text])"
      ],
      "execution_count": 0,
      "outputs": []
    },
    {
      "metadata": {
        "colab": {},
        "colab_type": "code",
        "id": "FZUUisnHIFoM"
      },
      "cell_type": "code",
      "source": [
        "def preprocessing_data(train_data,test_data,word_index):\n",
        "    train_data = keras.preprocessing.sequence.pad_sequences(train_data,\n",
        "                                                            value=word_index[\"<PAD>\"],\n",
        "                                                            padding='post',\n",
        "                                                            maxlen=256)\n",
        "    test_data = keras.preprocessing.sequence.pad_sequences(test_data,\n",
        "                                                           value=word_index[\"<PAD>\"],\n",
        "                                                           padding='post',\n",
        "                                                           maxlen=256)\n",
        "    return train_data,test_data"
      ],
      "execution_count": 0,
      "outputs": []
    },
    {
      "metadata": {
        "colab": {},
        "colab_type": "code",
        "id": "HaROE_B0vspM"
      },
      "cell_type": "code",
      "source": [
        "def create_validation_set(train_data,train_labels):\n",
        "    x_val = train_data[:10000]\n",
        "    partial_x_train = train_data[10000:25000]\n",
        "\n",
        "    y_val = train_labels[:10000]\n",
        "    partial_y_train = train_labels[10000:25000]\n",
        "\n",
        "    return x_val,partial_x_train,y_val,partial_y_train"
      ],
      "execution_count": 0,
      "outputs": []
    },
    {
      "metadata": {
        "colab": {},
        "colab_type": "code",
        "id": "PFiTRV5wKo30"
      },
      "cell_type": "code",
      "source": [
        "def define_lstm_model():\n",
        "    vocab_size = 10000\n",
        "    \n",
        "    model = Sequential()\n",
        "    model.add(Embedding(vocab_size, 300, input_length=256))\n",
        "    model.add(Bidirectional(LSTM(128, dropout=0.5, recurrent_dropout=0.2,return_sequences=True)))\n",
        "    model.add(Bidirectional(LSTM(128,dropout=0.5, recurrent_dropout=0.2,return_sequences=True)))\n",
        "    model.add(Bidirectional(LSTM(128,dropout=0.5, recurrent_dropout=0.2,return_sequences=False)))\n",
        "    model.add(Dense(10, activation='relu'))\n",
        "    model.add(Dense(1, activation='sigmoid'))\n",
        "    return model"
      ],
      "execution_count": 0,
      "outputs": []
    },
    {
      "metadata": {
        "colab": {},
        "colab_type": "code",
        "id": "QC4XEW6bNfaV"
      },
      "cell_type": "code",
      "source": [
        "def train_model(partial_x_train,partial_y_train,x_val,y_val):\n",
        "    history = model.fit(partial_x_train,\n",
        "                        partial_y_train,\n",
        "                        epochs=7,\n",
        "                        batch_size=512,\n",
        "                        validation_data=(x_val, y_val),\n",
        "                        verbose=1,\n",
        "                        callbacks=[tensorBoardCallback])\n",
        "\n",
        "    return history"
      ],
      "execution_count": 0,
      "outputs": []
    },
    {
      "metadata": {
        "colab": {},
        "colab_type": "code",
        "id": "1lyTW9WrPfNL"
      },
      "cell_type": "code",
      "source": [
        "def plot_graph_loss_vs_epochs(history):\n",
        "    acc = history.history['acc']\n",
        "    val_acc = history.history['val_acc']\n",
        "    loss = history.history['loss']\n",
        "    val_loss = history.history['val_loss']\n",
        "\n",
        "    epochs = range(1, len(acc) + 1)\n",
        "\n",
        "    # \"bo\" is for \"blue dot\"\n",
        "    plt.plot(epochs, loss, 'bo', label='Training loss')\n",
        "    # b is for \"solid blue line\"\n",
        "    plt.plot(epochs, val_loss, 'b', label='Validation loss')\n",
        "    plt.title('Training and validation loss')\n",
        "    plt.xlabel('Epochs')\n",
        "    plt.ylabel('Loss')\n",
        "    plt.legend()\n",
        "\n",
        "    plt.show()"
      ],
      "execution_count": 0,
      "outputs": []
    },
    {
      "metadata": {
        "colab": {
          "base_uri": "https://localhost:8080/",
          "height": 85
        },
        "colab_type": "code",
        "id": "SC_mqOn_Iinu",
        "outputId": "7498fddb-d539-4b19-b38e-caa63b0dfa47"
      },
      "cell_type": "code",
      "source": [
        "train_data,train_labels,test_data,test_labels,imdb = load_dataset()\n",
        "reverse_word_index,word_index = get_reversed_word_mapping(imdb)\n",
        "train_data,test_data = preprocessing_data(train_data,test_data,word_index)\n",
        "model = define_lstm_model()\n",
        "model.compile(optimizer=tf.train.AdamOptimizer(),loss='binary_crossentropy',metrics=['accuracy'])\n",
        "tensorBoardCallback = TensorBoard(log_dir='./logs', write_graph=True)\n",
        "x_val,partial_x_train,y_val,partial_y_train = create_validation_set(train_data,train_labels)"
      ],
      "execution_count": 11,
      "outputs": [
        {
          "output_type": "stream",
          "text": [
            "Downloading data from https://storage.googleapis.com/tensorflow/tf-keras-datasets/imdb.npz\n",
            "17465344/17464789 [==============================] - 0s 0us/step\n",
            "Downloading data from https://storage.googleapis.com/tensorflow/tf-keras-datasets/imdb_word_index.json\n",
            "1646592/1641221 [==============================] - 0s 0us/step\n"
          ],
          "name": "stdout"
        }
      ]
    },
    {
      "metadata": {
        "colab": {
          "base_uri": "https://localhost:8080/",
          "height": 340
        },
        "colab_type": "code",
        "id": "Y_g7RpoVbcXp",
        "outputId": "15197c9e-8e2a-4c01-b962-691a5cc4ef2c"
      },
      "cell_type": "code",
      "source": [
        "model.summary()"
      ],
      "execution_count": 13,
      "outputs": [
        {
          "output_type": "stream",
          "text": [
            "_________________________________________________________________\n",
            "Layer (type)                 Output Shape              Param #   \n",
            "=================================================================\n",
            "embedding_1 (Embedding)      (None, 256, 300)          3000000   \n",
            "_________________________________________________________________\n",
            "bidirectional_1 (Bidirection (None, 256, 256)          439296    \n",
            "_________________________________________________________________\n",
            "bidirectional_2 (Bidirection (None, 256, 256)          394240    \n",
            "_________________________________________________________________\n",
            "bidirectional_3 (Bidirection (None, 256)               394240    \n",
            "_________________________________________________________________\n",
            "dense_1 (Dense)              (None, 10)                2570      \n",
            "_________________________________________________________________\n",
            "dense_2 (Dense)              (None, 1)                 11        \n",
            "=================================================================\n",
            "Total params: 4,230,357\n",
            "Trainable params: 4,230,357\n",
            "Non-trainable params: 0\n",
            "_________________________________________________________________\n"
          ],
          "name": "stdout"
        }
      ]
    },
    {
      "metadata": {
        "colab": {
          "base_uri": "https://localhost:8080/",
          "height": 272
        },
        "colab_type": "code",
        "id": "HF37vdsqOj8N",
        "outputId": "75f1cd4f-3e80-48c5-a101-15ba588986a0"
      },
      "cell_type": "code",
      "source": [
        "history = train_model(partial_x_train,partial_y_train,x_val,y_val)"
      ],
      "execution_count": 17,
      "outputs": [
        {
          "output_type": "stream",
          "text": [
            "Train on 15000 samples, validate on 10000 samples\n",
            "Epoch 1/7\n",
            "15000/15000 [==============================] - 201s 13ms/step - loss: 0.1376 - acc: 0.9499 - val_loss: 0.4629 - val_acc: 0.8467\n",
            "Epoch 2/7\n",
            "15000/15000 [==============================] - 201s 13ms/step - loss: 0.3073 - acc: 0.8797 - val_loss: 0.4748 - val_acc: 0.8020\n",
            "Epoch 3/7\n",
            "15000/15000 [==============================] - 201s 13ms/step - loss: 0.3575 - acc: 0.8574 - val_loss: 0.4647 - val_acc: 0.8055\n",
            "Epoch 4/7\n",
            "15000/15000 [==============================] - 200s 13ms/step - loss: 0.2682 - acc: 0.8993 - val_loss: 0.4104 - val_acc: 0.8464\n",
            "Epoch 5/7\n",
            "15000/15000 [==============================] - 202s 13ms/step - loss: 0.2038 - acc: 0.9245 - val_loss: 0.3891 - val_acc: 0.8477\n",
            "Epoch 6/7\n",
            "15000/15000 [==============================] - 201s 13ms/step - loss: 0.1567 - acc: 0.9457 - val_loss: 0.3905 - val_acc: 0.8516\n",
            "Epoch 7/7\n",
            "15000/15000 [==============================] - 202s 13ms/step - loss: 0.1291 - acc: 0.9550 - val_loss: 0.4208 - val_acc: 0.8557\n"
          ],
          "name": "stdout"
        }
      ]
    },
    {
      "metadata": {
        "colab": {
          "base_uri": "https://localhost:8080/",
          "height": 376
        },
        "colab_type": "code",
        "id": "Dxwic9zaYBdP",
        "outputId": "46e45945-45fb-4515-ec5b-289d8dc37167"
      },
      "cell_type": "code",
      "source": [
        "plot_graph_loss_vs_epochs(history)"
      ],
      "execution_count": 18,
      "outputs": [
        {
          "output_type": "display_data",
          "data": {
            "image/png": "[encoded data removed]",
            "text/plain": [
              "<matplotlib.figure.Figure at 0x7fc9f2824390>"
            ]
          },
          "metadata": {
            "tags": []
          }
        }
      ]
    },
    {
      "metadata": {
        "colab": {
          "base_uri": "https://localhost:8080/",
          "height": 51
        },
        "colab_type": "code",
        "id": "Qr8DFjCkOlLW",
        "outputId": "fda25411-6797-4285-8673-ca6a0edb6750"
      },
      "cell_type": "code",
      "source": [
        "results = model.evaluate(test_data, test_labels)\n",
        "print(results)"
      ],
      "execution_count": 19,
      "outputs": [
        {
          "output_type": "stream",
          "text": [
            "25000/25000 [==============================] - 820s 33ms/step\n",
            "[0.4717454729938507, 0.83928]\n"
          ],
          "name": "stdout"
        }
      ]
    },
    {
      "metadata": {
        "colab_type": "code",
        "colab": {},
        "id": "qp_yzcLShWiG"
      },
      "cell_type": "code",
      "source": [
        "from google.colab import files\n",
        "files.download('logs/events.out.tfevents.1539198570.3413a1e2315d') "
      ],
      "execution_count": 0,
      "outputs": []
    }
  ]
}